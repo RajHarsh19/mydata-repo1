{
 "cells": [
  {
   "cell_type": "code",
   "execution_count": 3,
   "id": "4f63dc43",
   "metadata": {},
   "outputs": [],
   "source": [
    "def last():\n",
    "    print(\"Hi, I am Harsh Raj currently exploring different fields and exploring myself \")\n",
    "    print(\"some of the field i have explored till now are\")\n",
    "    print(\"Web Devlopment,Cyber Security, Currently exploring Data Science\")"
   ]
  },
  {
   "cell_type": "code",
   "execution_count": 4,
   "id": "e37fd99f",
   "metadata": {},
   "outputs": [
    {
     "name": "stdout",
     "output_type": "stream",
     "text": [
      "Hi, I am Harsh Raj currently exploring different fields and exploring myself \n",
      "some of the field i have explored till now are\n",
      "Web Devlopment,Cyber Security, Currently exploring Data Science\n"
     ]
    }
   ],
   "source": [
    "last()"
   ]
  },
  {
   "cell_type": "code",
   "execution_count": 5,
   "id": "7363c707",
   "metadata": {},
   "outputs": [],
   "source": [
    "def greeting(first_name,last_name):\n",
    "    print(F\"Hi{first_name}{last_name}\")\n",
    "    print(\"Welcome! aboard\")\n",
    "        "
   ]
  },
  {
   "cell_type": "code",
   "execution_count": 6,
   "id": "64f57e5f",
   "metadata": {},
   "outputs": [
    {
     "name": "stdout",
     "output_type": "stream",
     "text": [
      "HiHarshRaj\n",
      "Welcome! aboard\n"
     ]
    }
   ],
   "source": [
    "greeting(\"Harsh\",\"Raj\")"
   ]
  },
  {
   "cell_type": "code",
   "execution_count": 1,
   "id": "32cdf33b",
   "metadata": {},
   "outputs": [],
   "source": [
    "def my_generator():\n",
    "    print('Initisl item')\n",
    "    yield 10\n",
    "    \n",
    "    print('Middle item')\n",
    "    yield 15\n",
    "    \n",
    "    print('Last item')\n",
    "    yield 20"
   ]
  },
  {
   "cell_type": "code",
   "execution_count": 2,
   "id": "d9197d3c",
   "metadata": {},
   "outputs": [],
   "source": [
    "gen = my_generator()"
   ]
  },
  {
   "cell_type": "code",
   "execution_count": 3,
   "id": "d5fd6e38",
   "metadata": {},
   "outputs": [
    {
     "name": "stdout",
     "output_type": "stream",
     "text": [
      "Initisl item\n"
     ]
    },
    {
     "data": {
      "text/plain": [
       "10"
      ]
     },
     "execution_count": 3,
     "metadata": {},
     "output_type": "execute_result"
    }
   ],
   "source": [
    "next(gen)"
   ]
  },
  {
   "cell_type": "code",
   "execution_count": 4,
   "id": "56e09fdd",
   "metadata": {},
   "outputs": [
    {
     "name": "stdout",
     "output_type": "stream",
     "text": [
      "Middle item\n"
     ]
    },
    {
     "data": {
      "text/plain": [
       "15"
      ]
     },
     "execution_count": 4,
     "metadata": {},
     "output_type": "execute_result"
    }
   ],
   "source": [
    "next(gen)"
   ]
  },
  {
   "cell_type": "code",
   "execution_count": 5,
   "id": "5043f0d3",
   "metadata": {},
   "outputs": [
    {
     "name": "stdout",
     "output_type": "stream",
     "text": [
      "Last item\n"
     ]
    },
    {
     "data": {
      "text/plain": [
       "20"
      ]
     },
     "execution_count": 5,
     "metadata": {},
     "output_type": "execute_result"
    }
   ],
   "source": [
    "next(gen)"
   ]
  },
  {
   "cell_type": "code",
   "execution_count": 6,
   "id": "22538513",
   "metadata": {},
   "outputs": [],
   "source": [
    "class Student:\n",
    "    pass"
   ]
  },
  {
   "cell_type": "code",
   "execution_count": 7,
   "id": "04b38326",
   "metadata": {},
   "outputs": [],
   "source": [
    "std = Student()"
   ]
  },
  {
   "cell_type": "code",
   "execution_count": 8,
   "id": "5cf0992d",
   "metadata": {},
   "outputs": [],
   "source": [
    "class Student:\n",
    "    schoolName ='Radha Govind Public School'"
   ]
  },
  {
   "cell_type": "code",
   "execution_count": 9,
   "id": "0ca1cf3f",
   "metadata": {},
   "outputs": [
    {
     "data": {
      "text/plain": [
       "'Radha Govind Public School'"
      ]
     },
     "execution_count": 9,
     "metadata": {},
     "output_type": "execute_result"
    }
   ],
   "source": [
    "Student.schoolName"
   ]
  },
  {
   "cell_type": "code",
   "execution_count": 11,
   "id": "4748a3ec",
   "metadata": {},
   "outputs": [],
   "source": [
    "std = Student"
   ]
  },
  {
   "cell_type": "code",
   "execution_count": 12,
   "id": "85eae424",
   "metadata": {},
   "outputs": [
    {
     "data": {
      "text/plain": [
       "'Radha Govind Public School'"
      ]
     },
     "execution_count": 12,
     "metadata": {},
     "output_type": "execute_result"
    }
   ],
   "source": [
    "std.schoolName"
   ]
  },
  {
   "cell_type": "code",
   "execution_count": 13,
   "id": "0e9d160f",
   "metadata": {},
   "outputs": [],
   "source": [
    "Student.schoolName = 'G.G.P.S Bokaro'"
   ]
  },
  {
   "cell_type": "code",
   "execution_count": 14,
   "id": "8ffb4a30",
   "metadata": {},
   "outputs": [
    {
     "data": {
      "text/plain": [
       "'G.G.P.S Bokaro'"
      ]
     },
     "execution_count": 14,
     "metadata": {},
     "output_type": "execute_result"
    }
   ],
   "source": [
    "std.schoolName"
   ]
  },
  {
   "cell_type": "code",
   "execution_count": 21,
   "id": "1f1f68cc",
   "metadata": {},
   "outputs": [
    {
     "ename": "SyntaxError",
     "evalue": "invalid syntax (2760491646.py, line 3)",
     "output_type": "error",
     "traceback": [
      "\u001b[1;36m  Cell \u001b[1;32mIn[21], line 3\u001b[1;36m\u001b[0m\n\u001b[1;33m    def_init_(self):\u001b[0m\n\u001b[1;37m                   ^\u001b[0m\n\u001b[1;31mSyntaxError\u001b[0m\u001b[1;31m:\u001b[0m invalid syntax\n"
     ]
    }
   ],
   "source": [
    "class Student:\n",
    "    count=0\n",
    "    def_init_(self):\n",
    "        Student.count += 1"
   ]
  },
  {
   "cell_type": "code",
   "execution_count": 18,
   "id": "a1c70a5f",
   "metadata": {},
   "outputs": [],
   "source": [
    "std1=Student()"
   ]
  },
  {
   "cell_type": "code",
   "execution_count": null,
   "id": "a2489851",
   "metadata": {},
   "outputs": [],
   "source": []
  },
  {
   "cell_type": "code",
   "execution_count": 2,
   "id": "3299d93d",
   "metadata": {},
   "outputs": [],
   "source": [
    "f=open(r\"C:\\Users\\KIIT\\Desktop\\java\\area.txt\")\n",
    "lines=f.read()\n",
    "lines\n",
    "f.close()"
   ]
  },
  {
   "cell_type": "code",
   "execution_count": 3,
   "id": "adc01c55",
   "metadata": {},
   "outputs": [
    {
     "data": {
      "text/plain": [
       "'import java.util.Scanner;\\n\\nclass AreaCalculator {\\n    public double area(double radius) {\\n        return Math.PI * radius * radius;\\n    }\\n\\n    public double area(double base, double height) {\\n        return 0.5 * base * height;\\n    }\\n\\n    public double area(double side1, double side2, double side3) {\\n        // Using Heron\\'s formula to calculate the area of a triangle\\n        double s = (side1 + side2 + side3) / 2;\\n        return Math.sqrt(s * (s - side1) * (s - side2) * (s - side3));\\n    }\\n\\n    public double area(double side) {\\n        return side * side;\\n    }\\n}\\n\\npublic class Main {\\n    public static void main(String[] args) {\\n        Scanner scanner = new Scanner(System.in);\\n        AreaCalculator calculator = new AreaCalculator();\\n\\n        System.out.println(\"Select the shape for which you want to calculate the area:\");\\n        System.out.println(\"1. Circle\");\\n        System.out.println(\"2. Triangle\");\\n        System.out.println(\"3. Square\");\\n        int choice = scanner.nextInt();\\n\\n        switch (choice) {\\n            case 1:\\n                System.out.println(\"Enter the radius of the circle:\");\\n                double radius = scanner.nextDouble();\\n                System.out.println(\"Area of the circle: \" + calculator.area(radius));\\n                break;\\n            case 2:\\n                System.out.println(\"Enter the base and height of the triangle:\");\\n                double base = scanner.nextDouble();\\n                double height = scanner.nextDouble();\\n                System.out.println(\"Area of the triangle: \" + calculator.area(base, height));\\n                break;\\n            case 3:\\n                System.out.println(\"Enter the side length of the square:\");\\n                double side = scanner.nextDouble();\\n                System.out.println(\"Area of the square: \" + calculator.area(side));\\n                break;\\n            default:\\n                System.out.println(\"Invalid choice!\");\\n        }\\n\\n        scanner.close();\\n    }\\n}\\n'"
      ]
     },
     "execution_count": 3,
     "metadata": {},
     "output_type": "execute_result"
    }
   ],
   "source": [
    "lines"
   ]
  },
  {
   "cell_type": "code",
   "execution_count": 4,
   "id": "72b6bb80",
   "metadata": {},
   "outputs": [
    {
     "data": {
      "text/plain": [
       "'import java.util.Scanner;\\n'"
      ]
     },
     "execution_count": 4,
     "metadata": {},
     "output_type": "execute_result"
    }
   ],
   "source": [
    "f=open(r\"C:\\Users\\KIIT\\Desktop\\java\\area.txt\")\n",
    "line1=f.readline()\n",
    "line1"
   ]
  },
  {
   "cell_type": "code",
   "execution_count": 10,
   "id": "102b986e",
   "metadata": {},
   "outputs": [
    {
     "data": {
      "text/plain": [
       "'class AreaCalculator {\\n'"
      ]
     },
     "execution_count": 10,
     "metadata": {},
     "output_type": "execute_result"
    }
   ],
   "source": [
    "line7=f.readline()\n",
    "line7"
   ]
  },
  {
   "cell_type": "code",
   "execution_count": 11,
   "id": "252a8494",
   "metadata": {},
   "outputs": [],
   "source": [
    "f=open(r\"C:\\Users\\KIIT\\Desktop\\data practice\\open.txt\",'w')\n",
    "f.write(\"hello this is a new file created with jupityr notebook\")\n",
    "f.close()"
   ]
  },
  {
   "cell_type": "code",
   "execution_count": 13,
   "id": "e430fa59",
   "metadata": {},
   "outputs": [],
   "source": [
    "f=open(r\"C:\\Users\\KIIT\\Desktop\\data practice\\open.txt\",'r')\n",
    "read=f.read()\n",
    "read\n",
    "f.close()"
   ]
  },
  {
   "cell_type": "code",
   "execution_count": 14,
   "id": "a095afbe",
   "metadata": {},
   "outputs": [
    {
     "data": {
      "text/plain": [
       "'hello this is a new file created with jupityr notebook'"
      ]
     },
     "execution_count": 14,
     "metadata": {},
     "output_type": "execute_result"
    }
   ],
   "source": [
    "read"
   ]
  },
  {
   "cell_type": "code",
   "execution_count": 15,
   "id": "e6ff03ca",
   "metadata": {},
   "outputs": [
    {
     "name": "stdout",
     "output_type": "stream",
     "text": [
      "Age:a\n"
     ]
    },
    {
     "ename": "ValueError",
     "evalue": "invalid literal for int() with base 10: 'a'",
     "output_type": "error",
     "traceback": [
      "\u001b[1;31m---------------------------------------------------------------------------\u001b[0m",
      "\u001b[1;31mValueError\u001b[0m                                Traceback (most recent call last)",
      "Cell \u001b[1;32mIn[15], line 1\u001b[0m\n\u001b[1;32m----> 1\u001b[0m age\u001b[38;5;241m=\u001b[39m\u001b[38;5;28mint\u001b[39m(\u001b[38;5;28minput\u001b[39m(\u001b[38;5;124m\"\u001b[39m\u001b[38;5;124mAge:\u001b[39m\u001b[38;5;124m\"\u001b[39m))\n\u001b[0;32m      2\u001b[0m Age:a\n",
      "\u001b[1;31mValueError\u001b[0m: invalid literal for int() with base 10: 'a'"
     ]
    }
   ],
   "source": [
    "age=int(input(\"Age:\"))\n",
    "Age:a"
   ]
  },
  {
   "cell_type": "code",
   "execution_count": 19,
   "id": "39f6a122",
   "metadata": {},
   "outputs": [
    {
     "name": "stdout",
     "output_type": "stream",
     "text": [
      "Age:10\n",
      "No exception was there\n",
      "Execution continues\n"
     ]
    }
   ],
   "source": [
    "try:\n",
    "    age=int(input(\"Age:\"))\n",
    "except ValueError:\n",
    "    print(\"Not a valid age\")\n",
    "else:\n",
    "    print(\"No exception was there\")\n",
    "    \n",
    "print(\"Execution continues\")"
   ]
  },
  {
   "cell_type": "code",
   "execution_count": null,
   "id": "6186ec28",
   "metadata": {},
   "outputs": [],
   "source": []
  }
 ],
 "metadata": {
  "kernelspec": {
   "display_name": "Python 3 (ipykernel)",
   "language": "python",
   "name": "python3"
  },
  "language_info": {
   "codemirror_mode": {
    "name": "ipython",
    "version": 3
   },
   "file_extension": ".py",
   "mimetype": "text/x-python",
   "name": "python",
   "nbconvert_exporter": "python",
   "pygments_lexer": "ipython3",
   "version": "3.11.5"
  }
 },
 "nbformat": 4,
 "nbformat_minor": 5
}
