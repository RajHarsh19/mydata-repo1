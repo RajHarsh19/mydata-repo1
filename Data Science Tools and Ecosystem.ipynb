{
 "cells": [
  {
   "cell_type": "markdown",
   "id": "362e3dc0",
   "metadata": {},
   "source": [
    "print(\"Data Science Tools and Ecosystem\")"
   ]
  },
  {
   "cell_type": "markdown",
   "id": "71b84e4c",
   "metadata": {},
   "source": [
    "#Data Science Tools and ecosystem"
   ]
  },
  {
   "cell_type": "markdown",
   "id": "61568a67",
   "metadata": {},
   "source": [
    "# Data Science Tools and Ecosystem"
   ]
  },
  {
   "cell_type": "markdown",
   "id": "0b40d6c8",
   "metadata": {},
   "source": [
    "# In this notebook, Data Science Tools and Ecosystem are summarized."
   ]
  },
  {
   "cell_type": "markdown",
   "id": "9fcf4cae",
   "metadata": {},
   "source": [
    "# Some of the popular languages that Data Scientists use are:\n",
    "1. Python\n",
    "2. R\n",
    "3. Scala\n",
    "4. Julia"
   ]
  },
  {
   "cell_type": "markdown",
   "id": "a33a3ae9",
   "metadata": {},
   "source": [
    "# Some of the commonly used libraries used by Data Scientists include:\n",
    "1. Numpy\n",
    "2. Pandas\n",
    "3. Matplotlib\n",
    "4. Sci-kit"
   ]
  },
  {
   "cell_type": "markdown",
   "id": "8ccb59c3",
   "metadata": {},
   "source": [
    "|Data Science Tools|\n",
    "|Anaconda|\n",
    "|Jupyter Notebooks|\n",
    "|VS Code|"
   ]
  },
  {
   "cell_type": "markdown",
   "id": "d990fa74",
   "metadata": {},
   "source": [
    "# Data Science Tools\n",
    "\n",
    "| **Development Environment** |\n",
    "|-----------------------------|\n",
    "| Anaconda                    |\n",
    "| Jupyter Notebooks           |\n",
    "| PyCharm (Community Edition) |\n"
   ]
  },
  {
   "cell_type": "markdown",
   "id": "6e664d16",
   "metadata": {},
   "source": [
    "# introducing arithmetic expression \n",
    "# Below are a few examples of evaluating arithmetic expressions in Python\n",
    " x = 10\n",
    " y = 5\n",
    "result = x + y  # Addition\n",
    "print(f\"{x} + {y} = {result}\")\n",
    "\n",
    "result = x - y  # Subtraction\n",
    "print(f\"{x} - {y} = {result}\")\n"
   ]
  },
  {
   "cell_type": "markdown",
   "id": "a07e7cac",
   "metadata": {},
   "source": [
    "# introducing arithmetic expression\n",
    "# Below are a few examples of evaluating arithmetic expressions in Python\n",
    "# x = 10\n",
    "# y = 5\n",
    "# result = x + y  # Addition\n",
    "# print(f\"{x} + {y} = {result}\")\n",
    "\n",
    "# result = x - y  # Subtraction\n",
    "# print(f\"{x} - {y} = {result}\")\n"
   ]
  },
  {
   "cell_type": "code",
   "execution_count": 1,
   "id": "8b572826",
   "metadata": {},
   "outputs": [
    {
     "name": "stdout",
     "output_type": "stream",
     "text": [
      "(3*4)+5\n"
     ]
    }
   ],
   "source": [
    "print(\"(3*4)+5\")\n",
    "# This a simple arithmetic expression to mutiply then add integers"
   ]
  },
  {
   "cell_type": "code",
   "execution_count": 2,
   "id": "37b2f2f5",
   "metadata": {},
   "outputs": [
    {
     "ename": "SyntaxError",
     "evalue": "unmatched ')' (384788984.py, line 1)",
     "output_type": "error",
     "traceback": [
      "\u001b[1;36m  Cell \u001b[1;32mIn[2], line 1\u001b[1;36m\u001b[0m\n\u001b[1;33m    (3*4)+5)\u001b[0m\n\u001b[1;37m           ^\u001b[0m\n\u001b[1;31mSyntaxError\u001b[0m\u001b[1;31m:\u001b[0m unmatched ')'\n"
     ]
    }
   ],
   "source": [
    "(3*4)+5)"
   ]
  },
  {
   "cell_type": "code",
   "execution_count": 4,
   "id": "6bdf0f14",
   "metadata": {},
   "outputs": [
    {
     "name": "stdout",
     "output_type": "stream",
     "text": [
      "17\n"
     ]
    }
   ],
   "source": [
    "equation = '3 * 4 + 5'\n",
    "#This a simple arithmetic expression to mutiply then add integers\n",
    "print(eval(equation))  \n"
   ]
  },
  {
   "cell_type": "code",
   "execution_count": 5,
   "id": "3d066caf",
   "metadata": {},
   "outputs": [
    {
     "name": "stdout",
     "output_type": "stream",
     "text": [
      "200 minutes is equal to 3.33 hours\n"
     ]
    }
   ],
   "source": [
    "#This will convert 200 minutes to hours by diving by 60\n",
    "# Input: Minutes\n",
    "minutes = 200\n",
    "\n",
    "# Convert to hours\n",
    "hours = minutes / 60\n",
    "\n",
    "print(f\"{minutes} minutes is equal to {hours:.2f} hours\")\n"
   ]
  },
  {
   "cell_type": "markdown",
   "id": "343573b6",
   "metadata": {},
   "source": [
    "# Objectives:\n",
    " **List popular languages for Data Science.**\n",
    "**Introduce common development environment tools used by data scientists.**\n",
    "**Demonstrate how to create Markdown cells and format content in Jupyter Notebook.**\n",
    "**Provide examples of evaluating arithmetic expressions in Python.**\n",
    "**Highlight key takeaways related to data science concepts and tools.**"
   ]
  },
  {
   "cell_type": "markdown",
   "id": "1d3cfa84",
   "metadata": {},
   "source": [
    "# List popular languages for Data Science\n",
    "- **Python**\n",
    "- **R**\n",
    "- **Scala**"
   ]
  },
  {
   "cell_type": "markdown",
   "id": "a00b4e91",
   "metadata": {},
   "source": [
    "# Author\n",
    "Harsh Raj"
   ]
  },
  {
   "cell_type": "code",
   "execution_count": null,
   "id": "4927fbf2",
   "metadata": {},
   "outputs": [],
   "source": []
  }
 ],
 "metadata": {
  "kernelspec": {
   "display_name": "Python 3 (ipykernel)",
   "language": "python",
   "name": "python3"
  },
  "language_info": {
   "codemirror_mode": {
    "name": "ipython",
    "version": 3
   },
   "file_extension": ".py",
   "mimetype": "text/x-python",
   "name": "python",
   "nbconvert_exporter": "python",
   "pygments_lexer": "ipython3",
   "version": "3.11.5"
  }
 },
 "nbformat": 4,
 "nbformat_minor": 5
}
